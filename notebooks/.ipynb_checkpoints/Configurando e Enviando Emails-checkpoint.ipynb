{
 "cells": [
  {
   "cell_type": "markdown",
   "id": "c09ff201",
   "metadata": {
    "toc": true
   },
   "source": [
    "<h1>Table of Contents<span class=\"tocSkip\"></span></h1>\n",
    "<div class=\"toc\"><ul class=\"toc-item\"><li><span><a href=\"#Definições-Iniciais\" data-toc-modified-id=\"Definições-Iniciais-1\"><span class=\"toc-item-num\">1&nbsp;&nbsp;</span>Definições Iniciais</a></span></li><li><span><a href=\"#Configurando-E-mail\" data-toc-modified-id=\"Configurando-E-mail-2\"><span class=\"toc-item-num\">2&nbsp;&nbsp;</span>Configurando E-mail</a></span></li></ul></div>"
   ]
  },
  {
   "cell_type": "markdown",
   "id": "400e4542",
   "metadata": {},
   "source": [
    "Este notebook tem como objetivo realizar testes com a biblioteca `exchangelib` do Python para o envio de e-mails utilizando o Microsoft Exchange. A partir dela, pretende-se realizar configurações de envio de e-mails simples e, de forma incremental, analisar possibilidades de formatações adicionais nos objetos enviados."
   ]
  },
  {
   "cell_type": "markdown",
   "id": "3cda6b43",
   "metadata": {},
   "source": [
    "# Definições Iniciais"
   ]
  },
  {
   "cell_type": "code",
   "execution_count": 172,
   "id": "6e74d15f",
   "metadata": {
    "ExecuteTime": {
     "end_time": "2021-04-09T02:55:54.406926Z",
     "start_time": "2021-04-09T02:55:54.391354Z"
    }
   },
   "outputs": [],
   "source": [
    "# Importando bibliotecas\n",
    "from dotenv import load_dotenv\n",
    "import os\n",
    "from exchangelib import Credentials, Account, Configuration, Message, DELEGATE, FileAttachment\n",
    "import pandas as pd\n",
    "import io"
   ]
  },
  {
   "cell_type": "code",
   "execution_count": 159,
   "id": "b9af09e6",
   "metadata": {
    "ExecuteTime": {
     "end_time": "2021-04-09T02:14:15.870004Z",
     "start_time": "2021-04-09T02:14:15.858036Z"
    }
   },
   "outputs": [],
   "source": [
    "# Lendo variáveis de ambiente\n",
    "load_dotenv()\n",
    "\n",
    "# Definindo variáveis do projeto\n",
    "USERNAME = 'thipanini94@gmail.com'\n",
    "PWD = os.getenv('PWD')\n",
    "SERVER = 'outlook.office365.com'\n",
    "MAIL_BOX = 'thipanini94@gmail.com'\n",
    "MAIL_TO = ['thipanini94@gmail.com']\n",
    "\n",
    "# Variáveis testes de anexo de arquivos\n",
    "CSV_FILEPATH = r'D:\\Users\\thiagoPanini\\data-science-repos\\kaggle\\01_german_credit_risk\\german_credit_data.csv'\n",
    "PNG_FILEPATH = r'D:\\Users\\thiagoPanini\\data-science-repos\\kaggle\\01_german_credit_risk\\confusion_matrix_final.png'\n",
    "TXT_FILEPATH = r'D:\\Users\\thiagoPanini\\data-science-repos\\kaggle\\04_brazilian_e-commerce\\dataset_test.txt'\n",
    "XLSX_FILEPATH = r'C:\\Users\\thipa\\Desktop\\certificacao_alteryx\\core\\praticas\\4701229_3BJP240W.xlsx'"
   ]
  },
  {
   "cell_type": "markdown",
   "id": "880d9934",
   "metadata": {},
   "source": [
    "# Configurando E-mail"
   ]
  },
  {
   "cell_type": "code",
   "execution_count": 35,
   "id": "cf1bde3d",
   "metadata": {
    "ExecuteTime": {
     "end_time": "2021-04-09T00:49:34.307367Z",
     "start_time": "2021-04-09T00:49:34.300386Z"
    }
   },
   "outputs": [],
   "source": [
    "# Definindo função de conexão com o servidor\n",
    "def connect_exchange(username, password, server, mail_box, auto_discover=False, access_type=DELEGATE):\n",
    "    \"\"\"\n",
    "    Realiza a conexão com o servidor através da conta exchange\n",
    "    \n",
    "    Parâmetros\n",
    "    ----------\n",
    "    :param username: e-mail do usuário com acesso de envio de e-mail do endereço smtp [type: string]\n",
    "    :param password: senha do usuário com acesso de envio de e-mail do endereço smtp [type: string]\n",
    "    :param server: servidor responsável por gerenciar o transporte [type: string]\n",
    "    :param mail_box: endereço primário associado a conta de envio [type: string]\n",
    "    :param auto_discover: flag para apontar ao EWS utilizando protocolo específico [type: bool, default=False]\n",
    "    :param access_type: tipo de acesso relacionado as credenciais [type: obj, default=DELEGATE]\n",
    "    \n",
    "    Retorno\n",
    "    -------\n",
    "    :return account: objeto contendo informações compiladas de uma conta de usuário\n",
    "    \"\"\"\n",
    "    \n",
    "    # Definindo e configurando credenciais\n",
    "    creds = Credentials(username=username, password=password)\n",
    "    config = Configuration(server=server, credentials=creds)\n",
    "    account = Account(primary_smtp_address=mail_box, credentials=creds,\n",
    "                      autodiscover=auto_discover, access_type=access_type, config=config)\n",
    "    \n",
    "    return account"
   ]
  },
  {
   "cell_type": "code",
   "execution_count": 36,
   "id": "d57b71bc",
   "metadata": {
    "ExecuteTime": {
     "end_time": "2021-04-09T00:53:32.296001Z",
     "start_time": "2021-04-09T00:53:32.281039Z"
    }
   },
   "outputs": [],
   "source": [
    "# Configurando conta de envio\n",
    "account = connect_exchange(username=USERNAME, password=PWD, server=SERVER, mail_box=MAIL_BOX)"
   ]
  },
  {
   "cell_type": "code",
   "execution_count": null,
   "id": "28996b35",
   "metadata": {},
   "outputs": [],
   "source": []
  },
  {
   "cell_type": "code",
   "execution_count": null,
   "id": "5dc8a3b5",
   "metadata": {},
   "outputs": [],
   "source": [
    "# Criando função para envio de arquivos anexo\n",
    "def attach_files(file_name, file_ext):\n",
    "    \n",
    "    # Lendo arquivo externo\n",
    "    "
   ]
  },
  {
   "cell_type": "markdown",
   "id": "e7a99805",
   "metadata": {},
   "source": [
    "OBS: Não será necessário considerar a leitura de arquivos externos, visto q isso pode ser feito diretamente no Alteryx através da leitura de qlqr base como insumo da macro."
   ]
  },
  {
   "cell_type": "code",
   "execution_count": 158,
   "id": "9f305279",
   "metadata": {
    "ExecuteTime": {
     "end_time": "2021-04-09T02:07:44.584508Z",
     "start_time": "2021-04-09T02:07:43.644301Z"
    }
   },
   "outputs": [],
   "source": [
    "# Lendo um arquivo qualquer\n",
    "df = pd.read_csv(CSV_FILEPATH, encoding='utf-8')\n",
    "df = df.iloc[:, 1:]\n",
    "\n",
    "# Criando buffer para arquivo csv\n",
    "buffer = io.BytesIO()\n",
    "df.to_csv(buffer)\n",
    "\n",
    "# Lendo buffer\n",
    "attachments = []\n",
    "buffer_content = buffer.getvalue()\n",
    "attachments.append(('base_buffer.csv', buffer_content))\n",
    "\n",
    "# Preparando mensagem\n",
    "m = Message(account=account,\n",
    "            subject='Teste DataFrame',\n",
    "            body='Teste',\n",
    "            to_recipients=MAIL_TO)\n",
    "\n",
    "# Enviando anexo\n",
    "for name, content in attachments or []:\n",
    "    file = FileAttachment(name=name, content=content)\n",
    "m.attach(file)\n",
    "\n",
    "# Enviando mensagem\n",
    "m.send_and_save()"
   ]
  },
  {
   "cell_type": "code",
   "execution_count": 164,
   "id": "e5d3c456",
   "metadata": {
    "ExecuteTime": {
     "end_time": "2021-04-09T02:15:36.368184Z",
     "start_time": "2021-04-09T02:15:36.137385Z"
    }
   },
   "outputs": [
    {
     "data": {
      "text/html": [
       "<div>\n",
       "<style scoped>\n",
       "    .dataframe tbody tr th:only-of-type {\n",
       "        vertical-align: middle;\n",
       "    }\n",
       "\n",
       "    .dataframe tbody tr th {\n",
       "        vertical-align: top;\n",
       "    }\n",
       "\n",
       "    .dataframe thead th {\n",
       "        text-align: right;\n",
       "    }\n",
       "</style>\n",
       "<table border=\"1\" class=\"dataframe\">\n",
       "  <thead>\n",
       "    <tr style=\"text-align: right;\">\n",
       "      <th></th>\n",
       "      <th>emails</th>\n",
       "      <th>Entries</th>\n",
       "    </tr>\n",
       "  </thead>\n",
       "  <tbody>\n",
       "    <tr>\n",
       "      <th>0</th>\n",
       "      <td>Odilia95@askjeeves.com</td>\n",
       "      <td>35</td>\n",
       "    </tr>\n",
       "    <tr>\n",
       "      <th>1</th>\n",
       "      <td>Conrad22@hotmail.com</td>\n",
       "      <td>35</td>\n",
       "    </tr>\n",
       "    <tr>\n",
       "      <th>2</th>\n",
       "      <td>Constantine37@askjeeves.com</td>\n",
       "      <td>35</td>\n",
       "    </tr>\n",
       "    <tr>\n",
       "      <th>3</th>\n",
       "      <td>Godwin75@hotmail.com</td>\n",
       "      <td>34</td>\n",
       "    </tr>\n",
       "    <tr>\n",
       "      <th>4</th>\n",
       "      <td>Wade18@yahoo.com</td>\n",
       "      <td>34</td>\n",
       "    </tr>\n",
       "    <tr>\n",
       "      <th>...</th>\n",
       "      <td>...</td>\n",
       "      <td>...</td>\n",
       "    </tr>\n",
       "    <tr>\n",
       "      <th>101</th>\n",
       "      <td>Rhoslyn89@gmail.com</td>\n",
       "      <td>1</td>\n",
       "    </tr>\n",
       "    <tr>\n",
       "      <th>102</th>\n",
       "      <td>Alistair88@hotmail.com</td>\n",
       "      <td>1</td>\n",
       "    </tr>\n",
       "    <tr>\n",
       "      <th>103</th>\n",
       "      <td>Milo95@hotmail.com</td>\n",
       "      <td>1</td>\n",
       "    </tr>\n",
       "    <tr>\n",
       "      <th>104</th>\n",
       "      <td>Emma96@live.com</td>\n",
       "      <td>0</td>\n",
       "    </tr>\n",
       "    <tr>\n",
       "      <th>105</th>\n",
       "      <td>Everard55@askjeeves.com</td>\n",
       "      <td>0</td>\n",
       "    </tr>\n",
       "  </tbody>\n",
       "</table>\n",
       "<p>106 rows × 2 columns</p>\n",
       "</div>"
      ],
      "text/plain": [
       "                          emails  Entries\n",
       "0         Odilia95@askjeeves.com       35\n",
       "1           Conrad22@hotmail.com       35\n",
       "2    Constantine37@askjeeves.com       35\n",
       "3           Godwin75@hotmail.com       34\n",
       "4               Wade18@yahoo.com       34\n",
       "..                           ...      ...\n",
       "101          Rhoslyn89@gmail.com        1\n",
       "102       Alistair88@hotmail.com        1\n",
       "103           Milo95@hotmail.com        1\n",
       "104              Emma96@live.com        0\n",
       "105      Everard55@askjeeves.com        0\n",
       "\n",
       "[106 rows x 2 columns]"
      ]
     },
     "execution_count": 164,
     "metadata": {},
     "output_type": "execute_result"
    }
   ],
   "source": [
    "df = pd.read_excel(XLSX_FILEPATH)\n",
    "df"
   ]
  },
  {
   "cell_type": "code",
   "execution_count": 168,
   "id": "da39ea85",
   "metadata": {
    "ExecuteTime": {
     "end_time": "2021-04-09T02:45:16.447541Z",
     "start_time": "2021-04-09T02:45:15.510450Z"
    }
   },
   "outputs": [],
   "source": [
    "import io\n",
    "\n",
    "# Lendo um arquivo qualquer\n",
    "df = pd.read_excel(XLSX_FILEPATH)\n",
    "\n",
    "# Criando buffer para arquivo csv\n",
    "buffer = io.BytesIO()\n",
    "df.to_excel(buffer)\n",
    "\n",
    "# Lendo buffer\n",
    "attachments = []\n",
    "buffer_content = buffer.getvalue()\n",
    "attachments.append(('base_excel.xlsx', buffer_content))\n",
    "buffer.close()\n",
    "\n",
    "# Preparando mensagem\n",
    "m = Message(account=account,\n",
    "            subject='Teste DataFrame Excel',\n",
    "            body='Teste',\n",
    "            to_recipients=MAIL_TO)\n",
    "\n",
    "# Enviando anexo\n",
    "for name, content in attachments or []:\n",
    "    file = FileAttachment(name=name, content=content)\n",
    "m.attach(file)\n",
    "\n",
    "# Enviando mensagem\n",
    "m.send_and_save()"
   ]
  },
  {
   "cell_type": "code",
   "execution_count": null,
   "id": "eba9235a",
   "metadata": {},
   "outputs": [],
   "source": []
  },
  {
   "cell_type": "code",
   "execution_count": null,
   "id": "151e5e91",
   "metadata": {},
   "outputs": [],
   "source": []
  },
  {
   "cell_type": "code",
   "execution_count": 107,
   "id": "e408e987",
   "metadata": {
    "ExecuteTime": {
     "end_time": "2021-04-09T01:42:23.232308Z",
     "start_time": "2021-04-09T01:42:23.199395Z"
    }
   },
   "outputs": [],
   "source": [
    "# Lendo um arquivo qualquer\n",
    "df = pd.read_csv(CSV_FILEPATH, encoding='utf-8')\n",
    "df = df.iloc[:, 1:]\n",
    "\n",
    "# Salvando localmente para leitura de bytes\n",
    "df.to_csv('attach_tmp.csv', index=False)\n",
    "with open('attach.csv', 'rb') as f:\n",
    "    content = f.read()\n",
    "os.remove('attach.csv')\n",
    "\n",
    "# Enviando anexo\n",
    "attachments = []\n",
    "attachments.append(('base.xlsx', content))"
   ]
  },
  {
   "cell_type": "code",
   "execution_count": null,
   "id": "feb72f7b",
   "metadata": {},
   "outputs": [],
   "source": []
  },
  {
   "cell_type": "code",
   "execution_count": null,
   "id": "0043b2ad",
   "metadata": {},
   "outputs": [],
   "source": []
  }
 ],
 "metadata": {
  "hide_input": false,
  "kernelspec": {
   "display_name": "Python 3",
   "language": "python",
   "name": "python3"
  },
  "language_info": {
   "codemirror_mode": {
    "name": "ipython",
    "version": 3
   },
   "file_extension": ".py",
   "mimetype": "text/x-python",
   "name": "python",
   "nbconvert_exporter": "python",
   "pygments_lexer": "ipython3",
   "version": "3.8.9"
  },
  "toc": {
   "base_numbering": 1,
   "nav_menu": {},
   "number_sections": true,
   "sideBar": true,
   "skip_h1_title": false,
   "title_cell": "Table of Contents",
   "title_sidebar": "Contents",
   "toc_cell": true,
   "toc_position": {},
   "toc_section_display": true,
   "toc_window_display": true
  },
  "varInspector": {
   "cols": {
    "lenName": 16,
    "lenType": 16,
    "lenVar": 40
   },
   "kernels_config": {
    "python": {
     "delete_cmd_postfix": "",
     "delete_cmd_prefix": "del ",
     "library": "var_list.py",
     "varRefreshCmd": "print(var_dic_list())"
    },
    "r": {
     "delete_cmd_postfix": ") ",
     "delete_cmd_prefix": "rm(",
     "library": "var_list.r",
     "varRefreshCmd": "cat(var_dic_list()) "
    }
   },
   "types_to_exclude": [
    "module",
    "function",
    "builtin_function_or_method",
    "instance",
    "_Feature"
   ],
   "window_display": false
  }
 },
 "nbformat": 4,
 "nbformat_minor": 5
}
